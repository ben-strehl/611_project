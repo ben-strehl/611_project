{
 "cells": [
  {
   "cell_type": "code",
   "execution_count": 1,
   "id": "6bbb8f59",
   "metadata": {},
   "outputs": [],
   "source": [
    "import os, openpyxl"
   ]
  },
  {
   "cell_type": "code",
   "execution_count": 2,
   "id": "e0b87b16",
   "metadata": {},
   "outputs": [],
   "source": [
    "def find_line(search, lines):\n",
    "    for line in lines:\n",
    "        if search in line:\n",
    "            line = line.split(' ')\n",
    "            line = list(filter(None, line))\n",
    "            return line[1]"
   ]
  },
  {
   "cell_type": "code",
   "execution_count": 3,
   "id": "c70e9997",
   "metadata": {},
   "outputs": [],
   "source": [
    "path = '//wsl$/Ubuntu-20.04/home/bkhutton/gem5/output'"
   ]
  },
  {
   "cell_type": "code",
   "execution_count": 4,
   "id": "0907b215",
   "metadata": {},
   "outputs": [
    {
     "data": {
      "text/plain": [
       "['20', '30', '7', '15', '25', '40', '50', '10']"
      ]
     },
     "execution_count": 4,
     "metadata": {},
     "output_type": "execute_result"
    }
   ],
   "source": [
    "pipeline_depths = os.listdir(path)\n",
    "pipeline_depths"
   ]
  },
  {
   "cell_type": "code",
   "execution_count": 5,
   "id": "b0646b01",
   "metadata": {},
   "outputs": [],
   "source": [
    "rows = []\n",
    "for pipeline_depth in pipeline_depths:\n",
    "    pipeline_depth_path = os.path.join(path, pipeline_depth)\n",
    "    caches = os.listdir(pipeline_depth_path)\n",
    "    for cache in caches:\n",
    "        cache_path = os.path.join(pipeline_depth_path, cache)\n",
    "        stat_files = os.listdir(cache_path)\n",
    "        for stat_file in stat_files:\n",
    "            file = os.path.join(cache_path, stat_file)\n",
    "            with open(file, 'r') as f:\n",
    "                lines = f.readlines()\n",
    "                sim_seconds = find_line('simSeconds', lines)\n",
    "                sim_instructions = find_line('system.cpu.committedInsts', lines)\n",
    "                cache_miss_rate = find_line('system.cpu.icache.overallMissRate::total', lines)\n",
    "                branches = find_line('system.cpu.numBranches', lines)\n",
    "                branch_misses = find_line('system.cpu.commit.branchMispredicts', lines)\n",
    "                ipc = find_line('system.cpu.ipc', lines)\n",
    "                data_cache_miss_rate = find_line('system.cpu.dcache.overallMissRate::total', lines)\n",
    "                \n",
    "                row = (pipeline_depth, cache, stat_file, sim_seconds, sim_instructions, cache_miss_rate, branches,\n",
    "                      branch_misses, ipc, data_cache_miss_rate)\n",
    "                rows.append(row)"
   ]
  },
  {
   "cell_type": "code",
   "execution_count": 6,
   "id": "d433f804",
   "metadata": {},
   "outputs": [],
   "source": [
    "wb = openpyxl.Workbook()\n",
    "dest_file = 'results.xlsx'\n",
    "ws = wb.active\n",
    "ws.cell(1,1).value = 'Pipeline Depth'\n",
    "ws.cell(1,2).value = 'Cache Size (KB)'\n",
    "ws.cell(1,3).value = 'Benchmark'\n",
    "ws.cell(1,4).value = 'Simulated Seconds'\n",
    "ws.cell(1,5).value = 'Simulated Instructions'\n",
    "ws.cell(1,6).value = 'Instruction Cache Miss Rate'\n",
    "ws.cell(1,7).value = 'Branch Predictions'\n",
    "ws.cell(1,8).value = 'Missed Branch Predicitons'\n",
    "ws.cell(1,9).value = 'IPC'\n",
    "ws.cell(1,10).value = 'Data Cache Miss Rate'\n",
    "for i in range(2, len(rows)):\n",
    "    for j in range(1, len(rows[0])+1):\n",
    "        ws.cell(i, j).value = rows[i-1][j-1]\n",
    "wb.save(dest_file)"
   ]
  },
  {
   "cell_type": "code",
   "execution_count": null,
   "id": "7a09a01a",
   "metadata": {},
   "outputs": [],
   "source": []
  }
 ],
 "metadata": {
  "kernelspec": {
   "display_name": "Python 3 (ipykernel)",
   "language": "python",
   "name": "python3"
  },
  "language_info": {
   "codemirror_mode": {
    "name": "ipython",
    "version": 3
   },
   "file_extension": ".py",
   "mimetype": "text/x-python",
   "name": "python",
   "nbconvert_exporter": "python",
   "pygments_lexer": "ipython3",
   "version": "3.10.4"
  }
 },
 "nbformat": 4,
 "nbformat_minor": 5
}
